{
 "cells": [
  {
   "cell_type": "code",
   "execution_count": 3,
   "metadata": {},
   "outputs": [
    {
     "name": "stdout",
     "output_type": "stream",
     "text": [
      "22:00 on January 3, 2020\n"
     ]
    }
   ],
   "source": [
    "import os\n",
    "from google.cloud import translate_v2\n",
    "\n",
    "os.environ['GOOGLE_APPLICATION_CREDENTIALS'] = r\"C:\\DEV\\GoogleTranslationAPI\\GoogleCloudKey_AdilbekServiceAccount.json\"\n",
    "translate_client = translate_v2.Client()\n",
    "target_language = 'en'\n",
    "\n",
    "test_text = '2020年1月3日22時'\n",
    "\n",
    "output_text = translate_client.translate(\n",
    "                        test_text,\n",
    "                        target_language=target_language\n",
    "                        )[\"translatedText\"]\n",
    "\n",
    "print(output_text)"
   ]
  }
 ],
 "metadata": {
  "kernelspec": {
   "display_name": "Python 3",
   "language": "python",
   "name": "python3"
  },
  "language_info": {
   "codemirror_mode": {
    "name": "ipython",
    "version": 3
   },
   "file_extension": ".py",
   "mimetype": "text/x-python",
   "name": "python",
   "nbconvert_exporter": "python",
   "pygments_lexer": "ipython3",
   "version": "3.8.5"
  }
 },
 "nbformat": 4,
 "nbformat_minor": 4
}
