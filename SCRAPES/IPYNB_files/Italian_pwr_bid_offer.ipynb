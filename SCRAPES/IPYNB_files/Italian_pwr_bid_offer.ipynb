{
 "cells": [
  {
   "cell_type": "code",
   "execution_count": 52,
   "metadata": {},
   "outputs": [
    {
     "name": "stdout",
     "output_type": "stream",
     "text": [
      "Going through disclaimer...\n",
      "Downloading 20190526OfferteFree_Pubbliche.zip\n",
      "Downloading 20190527OfferteFree_Pubbliche.zip\n",
      "Downloading 20190528OfferteFree_Pubbliche.zip\n",
      "Downloading 20190529OfferteFree_Pubbliche.zip\n",
      "Downloading 20190530OfferteFree_Pubbliche.zip\n",
      "Downloading 20190531OfferteFree_Pubbliche.zip\n",
      "Downloading 20190601OfferteFree_Pubbliche.zip\n",
      "All files downloaded.\n"
     ]
    }
   ],
   "source": [
    "import os\n",
    "import time\n",
    "import requests\n",
    "from datetime import datetime,timedelta\n",
    "from selenium import webdriver\n",
    "from selenium.webdriver.chrome.options import Options\n",
    "from selenium.common.exceptions import NoSuchElementException\n",
    "\n",
    "\n",
    "ZIP_DOWNLOAD_DIR = \"C:\\\\DEV\\\\output\\\\\"\n",
    "\n",
    "\n",
    "start_date = '2019-05-26'\n",
    "DAY_CNT = 7\n",
    "\n",
    "\n",
    "url = \"https://www.mercatoelettrico.org/En/download/DownloadDati.aspx?val=OfferteFree_Pubbliche\"\n",
    "chrome_options = Options()\n",
    "chrome_options.add_experimental_option( \"prefs\",     \n",
    "{\n",
    "  \"download.default_directory\": ZIP_DOWNLOAD_DIR,\n",
    "\n",
    "  \"download.prompt_for_download\": False,\n",
    "\n",
    "  \"download.directory_upgrade\": True,\n",
    "\n",
    "  \"safebrowsing.enabled\": True\n",
    "})\n",
    "driver = webdriver.Chrome(options = chrome_options)\n",
    "\n",
    "os.chdir(ZIP_DOWNLOAD_DIR)\n",
    "\n",
    "\n",
    "\n",
    "def retrieve_files(s_date, file_path):\n",
    "    driver.get(url)\n",
    "    try:\n",
    "        download_zip_files(s_date, file_path)\n",
    "\n",
    "    except NoSuchElementException:\n",
    "        print('Going through disclaimer...')\n",
    "        time.sleep(1)  \n",
    "        go_disclaimer()\n",
    "        download_zip_files(s_date, file_path)\n",
    "\n",
    "\n",
    "                \n",
    "def go_disclaimer():\n",
    "    try:\n",
    "        accept_checkbox_1 = driver.find_element_by_xpath('//*[@id=\"ContentPlaceHolder1_CBAccetto1\"]')\n",
    "        accept_checkbox_1.click()\n",
    "        accept_checkbox_2 = driver.find_element_by_xpath('//*[@id=\"ContentPlaceHolder1_CBAccetto2\"]')\n",
    "        accept_checkbox_2.click()\n",
    "        accept_btn = driver.find_element_by_xpath('//*[@id=\"ContentPlaceHolder1_Button1\"]')\n",
    "        accept_btn.click()\n",
    "\n",
    "    except Exception as e:\n",
    "        print('ERROR-going through disclaimer : ' + str(e))\n",
    "        raise Exception('EXIT')\n",
    "        \n",
    "        \n",
    "        \n",
    "def download_zip_files(start_date, file_path):\n",
    "    \n",
    "    el_date = driver.find_element_by_xpath('//*[@id=\"ContentPlaceHolder1_tbDataStart\"]')\n",
    "    for single_date in (datetime.strptime(start_date, '%Y-%m-%d') + timedelta(n) for n in range(DAY_CNT)):\n",
    "        single_date_str = single_date.strftime('%d/%m/%Y')\n",
    "        el_date.clear()\n",
    "        el_date.send_keys(single_date_str)\n",
    "        el_download_btn = driver.find_element_by_xpath('//*[@id=\"ContentPlaceHolder1_btnScarica\"]')\n",
    "        el_download_btn.click()\n",
    "        file_name = single_date.strftime('%Y%m%d') + \"OfferteFree_Pubbliche.zip\"\n",
    "        print('Downloading ' + file_name)\n",
    "        while(is_file_downloaded(file_path, file_name) == False):\n",
    "            time.sleep(3)\n",
    "    print(\"All files downloaded.\")\n",
    "    driver.quit()\n",
    "    \n",
    "    \n",
    "    \n",
    "def is_file_downloaded(file_path, file_name):\n",
    "    if os.path.isfile(file_name):\n",
    "        return True\n",
    "    else:\n",
    "        return False\n",
    "        \n",
    "        \n",
    "    \n",
    "if __name__ == '__main__':\n",
    "    retrieve_files(start_date, ZIP_DOWNLOAD_DIR)"
   ]
  },
  {
   "cell_type": "code",
   "execution_count": 3,
   "metadata": {},
   "outputs": [
    {
     "name": "stdout",
     "output_type": "stream",
     "text": [
      "62-50-9102\n"
     ]
    }
   ],
   "source": [
    "start_date = '2019-05-26'\n",
    "print(\"\".join(reversed(start_date)))\n"
   ]
  }
 ],
 "metadata": {
  "kernelspec": {
   "display_name": "Python 3",
   "language": "python",
   "name": "python3"
  },
  "language_info": {
   "codemirror_mode": {
    "name": "ipython",
    "version": 3
   },
   "file_extension": ".py",
   "mimetype": "text/x-python",
   "name": "python",
   "nbconvert_exporter": "python",
   "pygments_lexer": "ipython3",
   "version": "3.7.6"
  }
 },
 "nbformat": 4,
 "nbformat_minor": 4
}
