{
 "cells": [
  {
   "cell_type": "code",
   "execution_count": 29,
   "metadata": {},
   "outputs": [
    {
     "name": "stdout",
     "output_type": "stream",
     "text": [
      "https://www.data.jma.go.jp/obd/stats/etrn/view/daily_s1.php?prec_no=81&block_no=47784&year=2020&month=8&day=26&view=\n",
      "https://www.data.jma.go.jp/obd/stats/etrn/view/hourly_s1.php?prec_no=81&block_no=47784&year=2020&month=8&day=26&view=\n",
      "https://www.data.jma.go.jp/obd/stats/etrn/view/daily_s1.php?prec_no=34&block_no=47590&year=2020&month=8&day=26&view=\n",
      "https://www.data.jma.go.jp/obd/stats/etrn/view/hourly_s1.php?prec_no=34&block_no=47590&year=2020&month=8&day=26&view=\n",
      "https://www.data.jma.go.jp/obd/stats/etrn/view/daily_s1.php?prec_no=31&block_no=47575&year=2020&month=8&day=26&view=\n",
      "https://www.data.jma.go.jp/obd/stats/etrn/view/hourly_s1.php?prec_no=31&block_no=47575&year=2020&month=8&day=26&view=\n",
      "https://www.data.jma.go.jp/obd/stats/etrn/view/daily_s1.php?prec_no=54&block_no=47604&year=2020&month=8&day=26&view=\n",
      "https://www.data.jma.go.jp/obd/stats/etrn/view/hourly_s1.php?prec_no=54&block_no=47604&year=2020&month=8&day=26&view=\n"
     ]
    }
   ],
   "source": [
    "from datetime import datetime\n",
    "\n",
    "JMA_URL = 'https://www.data.jma.go.jp/obd/stats/etrn/view/{0}_s1.php?prec_no={1}&block_no={2}&year={3}&month={4}&day={5}&view='\n",
    "\n",
    "STATION_PREFECTURE_MAPPING = {\n",
    "\n",
    "    'Yamaguichi': (81, 47784),  # Yamaguchi\n",
    "\n",
    "    'Sendai': (34, 47590),  # Miyagi\n",
    "\n",
    "    'Aomori': (31, 47575),  # Aomori\n",
    "\n",
    "    'Niigata': (54, 47604),  # Niigata\n",
    "\n",
    "}\n",
    " \n",
    "    \n",
    "for station in STATION_PREFECTURE_MAPPING.keys():\n",
    "    for freq in ('daily', 'hourly'):\n",
    "    \n",
    "        url = JMA_URL.format(freq,STATION_PREFECTURE_MAPPING[station][0], STATION_PREFECTURE_MAPPING[station][1], datetime.today().year, datetime.today().month, datetime.today().day - 1)\n",
    "        print(url)"
   ]
  },
  {
   "cell_type": "code",
   "execution_count": 8,
   "metadata": {},
   "outputs": [
    {
     "name": "stdout",
     "output_type": "stream",
     "text": [
      "2020\n"
     ]
    }
   ],
   "source": [
    "from datetime import datetime\n",
    "\n",
    "print(datetime.today().year)"
   ]
  }
 ],
 "metadata": {
  "kernelspec": {
   "display_name": "Python 3",
   "language": "python",
   "name": "python3"
  },
  "language_info": {
   "codemirror_mode": {
    "name": "ipython",
    "version": 3
   },
   "file_extension": ".py",
   "mimetype": "text/x-python",
   "name": "python",
   "nbconvert_exporter": "python",
   "pygments_lexer": "ipython3",
   "version": "3.8.5"
  }
 },
 "nbformat": 4,
 "nbformat_minor": 4
}
